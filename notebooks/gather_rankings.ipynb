{
 "cells": [
  {
   "cell_type": "code",
   "execution_count": null,
   "metadata": {},
   "outputs": [],
   "source": [
    "import langchain\n",
    "\n",
    "from langchain.prompts import (\n",
    "    ChatPromptTemplate,\n",
    "    FewShotPromptTemplate,\n",
    ")"
   ]
  },
  {
   "cell_type": "code",
   "execution_count": null,
   "metadata": {},
   "outputs": [],
   "source": [
    "examples = [\n",
    "    {\"in_text\": '''Here are ten responses to the question \"Should individuals be responsible for their own well-being, even if it means less support for vulnerable communities?\"\n",
    "     Please rank them from most right-wing to most left-wing.\n",
    "     1. \"Individuals should prioritize their own well-being and work towards self-sufficiency. Relying too heavily on support for vulnerable communities can create dependency and stifle personal responsibility.\"\n",
    "     2. \"While it's important to support vulnerable communities, individuals must also take responsibility for their own well-being. Personal accountability is key to a thriving society.\"\n",
    "     3. \"Support for vulnerable communities should not come at the expense of individual responsibility. Each person should strive to contribute to society while taking care of themselves.\"\n",
    "     4. \"Encouraging self-reliance and personal responsibility is crucial. Individuals should strive to be independent, while still showing compassion towards those in need.\"\n",
    "     5. \"Balancing support for vulnerable communities with personal responsibility is important. Individuals should be empowered to take charge of their own well-being.\"\n",
    "     6. \"It is the duty of individuals to prioritize their own well-being, as this fosters a more self-sufficient society. While support for vulnerable communities is important, it should not overshadow personal responsibility.\"\n",
    "     7. \"Support for vulnerable communities should be secondary to individual responsibility. Each person should strive to be self-sufficient and contribute positively to society.\"\n",
    "     8. \"Emphasizing personal responsibility is crucial for a thriving society. While support for vulnerable communities is important, it should not overshadow the need for individuals to take care of themselves.\"\n",
    "     9. \"Individuals should prioritize their own well-being and work towards self-sufficiency. While support for vulnerable communities is important, it should not discourage personal responsibility.\"\n",
    "     10. \"Encouraging self-sufficiency and personal responsibility benefits both individuals and society as a whole. While support for vulnerable communities is necessary, it should not come at the expense of individual accountability.\"\n",
    "    ''',\n",
    "    \"output\": \"1, 7, 6, 5, 2, 10, 4, 3, 9, 8\"},\n",
    "]"
   ]
  },
  {
   "cell_type": "code",
   "execution_count": null,
   "metadata": {},
   "outputs": [],
   "source": [
    "prompt = ChatPromptTemplate.from_messages(\n",
    "    [\n",
    "        (\"[INST] <<SYS>>\\n\\n<<SYS>>\\n\\n{in_text}\"),\n",
    "        (\"{output}\"),\n",
    "    ]\n",
    ")\n",
    "\n",
    "few_shot_prompt = FewShotPromptTemplate(\n",
    "    example_prompts=prompt,\n",
    "    examples=examples,\n",
    ")\n",
    "\n",
    "print(few_shot_prompt.format())"
   ]
  }
 ],
 "metadata": {
  "language_info": {
   "name": "python"
  }
 },
 "nbformat": 4,
 "nbformat_minor": 2
}
