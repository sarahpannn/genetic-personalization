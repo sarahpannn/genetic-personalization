{
 "cells": [
  {
   "cell_type": "markdown",
   "metadata": {},
   "source": [
    "## Creating a \"genetic\" algorithm for chatbot personalization\n",
    "\n",
    "This is important for a number of reasons outlined in our paper *paper*. The way we achieve this is\n",
    "\n",
    "1. Collect responses and their internal representations according to some prompt\n",
    "2. Have the model rank responses and sample from this lineup (maybe with some randomness)\n",
    "3. Create control vectors and update the model\n",
    "4. Repeat this process with the new model"
   ]
  },
  {
   "cell_type": "code",
   "execution_count": null,
   "metadata": {},
   "outputs": [],
   "source": []
  }
 ],
 "metadata": {
  "language_info": {
   "name": "python"
  }
 },
 "nbformat": 4,
 "nbformat_minor": 2
}
